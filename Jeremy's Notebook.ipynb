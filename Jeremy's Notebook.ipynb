{
 "cells": [
  {
   "cell_type": "code",
   "execution_count": 195,
   "metadata": {
    "collapsed": false,
    "scrolled": false
   },
   "outputs": [
    {
     "name": "stdout",
     "output_type": "stream",
     "text": [
      "gilded: int64\n",
      "[ 1  2  3  7 11  5  9  4  8]\n",
      "score: int64\n",
      "[  24  432  216 ...,  517 1636  879]\n",
      "ups: int64\n",
      "[  24  432  216 ...,  517 1636  879]\n"
     ]
    }
   ],
   "source": [
    "import pandas as pd\n",
    "import numpy as np\n",
    "\n",
    "filename = 'Start Data/2012/RC_2012-12_gilded.csv'\n",
    "\n",
    "data = pd.read_csv(filename)\n",
    "\n",
    "check1 = data['gilded'].apply(lambda x: str(x).isdigit())\n",
    "check2 = data['score'].apply(lambda x: str(x).isdigit())\n",
    "check3 = data['ups'].apply(lambda x: str(x).isdigit())\n",
    "\n",
    "data = data[(check1 == True)]\n",
    "\n",
    "print 'gilded:', data['gilded'].dtype\n",
    "print data['gilded'].unique()\n",
    "print 'score:', data['score'].dtype\n",
    "print data['score'].unique()\n",
    "print 'ups:', data['ups'].dtype\n",
    "print data['ups'].unique()\n",
    "\n",
    "# data.to_csv(filename, encoding='utf-8', index=False)"
   ]
  },
  {
   "cell_type": "code",
   "execution_count": 206,
   "metadata": {
    "collapsed": false
   },
   "outputs": [
    {
     "name": "stdout",
     "output_type": "stream",
     "text": [
      "archived                  3131\n",
      "author                    3131\n",
      "author_flair_css_class     369\n",
      "author_flair_text          330\n",
      "body                      3131\n",
      "controversiality          3131\n",
      "created_utc               3131\n",
      "distinguished                5\n",
      "downs                     3131\n",
      "edited                    3131\n",
      "gilded                    3131\n",
      "id                        3131\n",
      "link_id                   3131\n",
      "name                      3131\n",
      "parent_id                 3131\n",
      "removal_reason               0\n",
      "retrieved_on              3131\n",
      "score                     3131\n",
      "score_hidden              3131\n",
      "subreddit                 3131\n",
      "subreddit_id              3131\n",
      "ups                       3131\n",
      "dtype: int64\n",
      "archived                  121\n",
      "author                    121\n",
      "author_flair_css_class      8\n",
      "author_flair_text           8\n",
      "body                      121\n",
      "controversiality          121\n",
      "created_utc               121\n",
      "distinguished               0\n",
      "downs                     121\n",
      "edited                    121\n",
      "gilded                    121\n",
      "id                        121\n",
      "link_id                   121\n",
      "name                      121\n",
      "parent_id                 121\n",
      "removal_reason              0\n",
      "retrieved_on              121\n",
      "score                     121\n",
      "score_hidden              121\n",
      "subreddit                 121\n",
      "subreddit_id              121\n",
      "ups                       121\n",
      "dtype: int64\n"
     ]
    },
    {
     "data": {
      "image/png": "[encoded data removed]",
      "text/plain": [
       "<matplotlib.figure.Figure at 0x12148ef0>"
      ]
     },
     "metadata": {},
     "output_type": "display_data"
    }
   ],
   "source": [
    "%matplotlib inline\n",
    "\n",
    "filename = 'Start Data/2012/RC_2012-12_gilded.csv'\n",
    "\n",
    "data = pd.read_csv(filename)\n",
    "\n",
    "data.plot(x='created_utc', y='gilded', kind='line')\n",
    "\n",
    "print data[data['gilded'] == 1].count()\n",
    "print data[data['gilded'] > 1].count()"
   ]
  }
 ],
 "metadata": {
  "anaconda-cloud": {},
  "kernelspec": {
   "display_name": "Python [conda env:cs489]",
   "language": "python",
   "name": "conda-env-cs489-py"
  },
  "language_info": {
   "codemirror_mode": {
    "name": "ipython",
    "version": 2
   },
   "file_extension": ".py",
   "mimetype": "text/x-python",
   "name": "python",
   "nbconvert_exporter": "python",
   "pygments_lexer": "ipython2",
   "version": "2.7.12"
  }
 },
 "nbformat": 4,
 "nbformat_minor": 1
}
