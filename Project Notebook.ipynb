{
 "cells": [
  {
   "cell_type": "markdown",
   "metadata": {},
   "source": [
    " # Overview and Motivation "
   ]
  },
  {
   "cell_type": "markdown",
   "metadata": {},
   "source": []
  },
  {
   "cell_type": "markdown",
   "metadata": {},
   "source": []
  },
  {
   "cell_type": "markdown",
   "metadata": {},
   "source": [
    "# Related Work"
   ]
  },
  {
   "cell_type": "markdown",
   "metadata": {},
   "source": []
  },
  {
   "cell_type": "markdown",
   "metadata": {},
   "source": [
    "# Initial Questions"
   ]
  },
  {
   "cell_type": "markdown",
   "metadata": {},
   "source": []
  },
  {
   "cell_type": "markdown",
   "metadata": {},
   "source": [
    "# Exploratory Data Analysis"
   ]
  },
  {
   "cell_type": "markdown",
   "metadata": {},
   "source": []
  },
  {
   "cell_type": "markdown",
   "metadata": {},
   "source": [
    "# Final Analysis"
   ]
  },
  {
   "cell_type": "markdown",
   "metadata": {},
   "source": []
  },
  {
   "cell_type": "markdown",
   "metadata": {},
   "source": [
    "# Presentation"
   ]
  },
  {
   "cell_type": "markdown",
   "metadata": {},
   "source": [
    "**Ask Animals**\n",
    "<img src=\"./Photos/AskAnimals.png\" alt=\"AskAnimals\" style=\"width:600px;height:600px;\">\n",
    "[Ask Animals Notbook](https://github.com/jsmoorman/csce489_gold/blob/master/AdviceAnimals%20Feature%20Importance%20Analysis.ipynb)\n",
    "\n",
    "**AskReddit**\n",
    "<img src=\"./Photos/AskReddit.png\" alt=\"AskReddit\" style=\"width:600px;height:600px;\">\n",
    "[AskReddit Notbook](https://github.com/jsmoorman/csce489_gold/blob/master/AskReddit%20Feature%20Importance%20Analysis.ipynb)\n",
    "\n",
    "**Funny**\n",
    "<img src=\"./Photos/Funny.png\" alt=\"Funny\" style=\"width:600px;height:600px;\">\n",
    "[Funny Notebook](https://github.com/jsmoorman/csce489_gold/blob/master/funny%20Feature%20Importance%20Analysis.ipynb)\n",
    "\n",
    "**Pics**\n",
    "<img src=\"./Photos/Pics.png\" alt=\"Pics\" style=\"width:600px;height:600px;\">\n",
    "[Pics Notebook](https://github.com/jsmoorman/csce489_gold/blob/master/pics%20Feature%20Importance%20Analysis.ipynb)\n",
    "\n",
    "**Today I learned**\n",
    "<img src=\"./Photos/TIL.png\" alt=\"TIL\" style=\"width:600px;height:600px;\">\n",
    "[Today I learned Notebook](https://github.com/jsmoorman/csce489_gold/blob/master/todayilearned%20Feature%20Importance%20Analysis.ipynb)\n",
    "\n",
    "**Videos**\n",
    "<img src=\"./Photos/Video.png\" alt=\"Vidoes\" style=\"width:600px;height:600px;\">\n",
    "[Videos Notebook](https://github.com/jsmoorman/csce489_gold/blob/master/videos%20Feature%20Importance%20Analysis.ipynb)\n",
    "\n",
    "**World News**\n",
    "<img src=\"./Photos/Worldnews.png\" alt=\"worldnews\" style=\"width:600px;height:600px;\">\n",
    "[World News Notebook](https://github.com/jsmoorman/csce489_gold/blob/master/worldnews%20Feature%20Importance%20Analysis.ipynb)\n",
    "\n",
    "**WTF**\n",
    "<img src=\"./Photos/WTF.png\" alt=\"WTF\" style=\"width:600px;height:600px;\">\n",
    "[WTF Notebook](https://github.com/jsmoorman/csce489_gold/blob/master/WTF%20Feature%20Importance%20Analysis.ipynb)\n",
    "\n",
    "**NFL**\n",
    "<img src=\"./Photos/NFL.png\" alt=\"NFL\" style=\"width:600px;height:600px;\">\n",
    "[NFL Notebook](https://github.com/jsmoorman/csce489_gold/blob/master/nfl%20Feature%20Importance%20Analysis.ipynb)\n",
    "\n",
    "**News**\n",
    "<img src=\"./Photos/news.png\" alt=\"News\" style=\"width:600px;height:600px;\">\n",
    "[News Notebook](https://github.com/jsmoorman/csce489_gold/blob/master/news%20Feature%20Importance%20Analysis.ipynb)"
   ]
  },
  {
   "cell_type": "markdown",
   "metadata": {},
   "source": []
  }
 ],
 "metadata": {
  "anaconda-cloud": {},
  "kernelspec": {
   "display_name": "Python [conda root]",
   "language": "python",
   "name": "conda-root-py"
  },
  "language_info": {
   "codemirror_mode": {
    "name": "ipython",
    "version": 2
   },
   "file_extension": ".py",
   "mimetype": "text/x-python",
   "name": "python",
   "nbconvert_exporter": "python",
   "pygments_lexer": "ipython2",
   "version": "2.7.12"
  }
 },
 "nbformat": 4,
 "nbformat_minor": 1
}
