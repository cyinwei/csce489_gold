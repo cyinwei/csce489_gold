{
 "cells": [
  {
   "cell_type": "code",
   "execution_count": 37,
   "metadata": {
    "collapsed": false
   },
   "outputs": [
    {
     "name": "stdout",
     "output_type": "stream",
     "text": [
      "15\n",
      "Afternoon\n"
     ]
    }
   ],
   "source": [
    "import time,os, datetime\n",
    "\n",
    "def getTimeofDay(data):\n",
    "    hour = int(datetime.datetime.fromtimestamp(data).strftime(\"%H\"))\n",
    "    print(hour)\n",
    "    if hour >= 5 and hour <12:\n",
    "        print(hour < 12)\n",
    "        return 'Morning'\n",
    "    elif hour >= 12 and hour < 17:\n",
    "        return 'Afternoon'\n",
    "    elif hour >= 17 and hour < 21:\n",
    "        return 'Evening'\n",
    "    elif hour >=21 and hour < 5:\n",
    "        return 'Night'\n",
    "    \n",
    "print(getTimeofDay(time.time()))"
   ]
  },
  {
   "cell_type": "code",
   "execution_count": 39,
   "metadata": {
    "collapsed": false
   },
   "outputs": [
    {
     "data": {
      "text/plain": [
       "33"
      ]
     },
     "execution_count": 39,
     "metadata": {},
     "output_type": "execute_result"
    }
   ],
   "source": [
    "def emojicount(string):\n",
    "    index = 0\n",
    "    count = 0\n",
    "    string= string.lower()\n",
    "    while True:\n",
    "        index = string.find( '\\u', index, len(string))\n",
    "        if index == -1:\n",
    "            break\n",
    "        else: \n",
    "            count+=1\n",
    "            index +=1\n",
    "    return count\n",
    "\n",
    "emojicount(s)"
   ]
  },
  {
   "cell_type": "code",
   "execution_count": 41,
   "metadata": {
    "collapsed": false
   },
   "outputs": [
    {
     "name": "stdout",
     "output_type": "stream",
     "text": [
      "user reports:\n",
      "2: <no reason>\n",
      "2: Involuntary pornography\n",
      "1: Spam\n",
      "1: Sjw cancer shit, burn to death you fucking trannies\n",
      "1: include me in the reports too thanks\n",
      "1: breaking reddit\n",
      "1: Plz i want attention\n",
      "1: Run nigger run\n",
      "1: xD\n",
      "1: Communism is cancer\n",
      "1: Communism.\n",
      "1: 💩\n",
      "1: oh god no, please burn your cancerous subreddit to the ground\n",
      "1: ayy lmao 👽 👽 👽 👽 👽 👽 👽 👽 👽 👽 👽 👽 👽 👽\n",
      "1: asking for upvotes\n",
      "1: Low Effort\n",
      "1: gay\n",
      "1: 💀💀💀BETTER DEAD👻👻😈THAN😈 😂 😈 RED👺 👺 😠 😠 😠\n",
      "1: Congrats on being added to my blocked list\n",
      "1: DEMOCRACY 🚩💰 IS NON ❎ NEGOTIABLE 🔫\n"
     ]
    }
   ],
   "source": [
    "s ='user reports:\\n2: <no reason>\\n2: Involuntary pornography\\n1: Spam\\n1: Sjw cancer shit, burn to death you fucking trannies\\n1: include me in the reports too thanks\\n1: breaking reddit\\n1: Plz i want attention\\n1: Run nigger run\\n1: xD\\n1: Communism is cancer\\n1: Communism.\\n1: \\U0001f4a9\\n1: oh god no, please burn your cancerous subreddit to the ground\\n1: ayy lmao \\U0001f47d \\U0001f47d \\U0001f47d \\U0001f47d \\U0001f47d \\U0001f47d \\U0001f47d \\U0001f47d \\U0001f47d \\U0001f47d \\U0001f47d \\U0001f47d \\U0001f47d \\U0001f47d\\n1: asking for upvotes\\n1: Low Effort\\n1: gay\\n1: \\U0001f480\\U0001f480\\U0001f480BETTER DEAD\\U0001f47b\\U0001f47b\\U0001f608THAN\\U0001f608 \\U0001f602 \\U0001f608 RED\\U0001f47a \\U0001f47a \\U0001f620 \\U0001f620 \\U0001f620\\n1: Congrats on being added to my blocked list\\n1: DEMOCRACY \\U0001f6a9\\U0001f4b0 IS NON \\u274e NEGOTIABLE \\U0001f52b'\n",
    "print (s.decode('unicode-escape'))\n",
    "regrex = '\\U'"
   ]
  },
  {
   "cell_type": "code",
   "execution_count": 36,
   "metadata": {
    "collapsed": false
   },
   "outputs": [
    {
     "name": "stdout",
     "output_type": "stream",
     "text": [
      "33\n"
     ]
    }
   ],
   "source": [
    "index = 0\n",
    "count = 0\n",
    "s= s.lower()\n",
    "while True:\n",
    "    index = s.find( '\\u', index, len(s))\n",
    "    if index == -1:\n",
    "        break\n",
    "    else: \n",
    "        count+=1\n",
    "        index +=1\n",
    "    #print index\n",
    "print count"
   ]
  }
 ],
 "metadata": {
  "anaconda-cloud": {},
  "kernelspec": {
   "display_name": "Python [conda root]",
   "language": "python",
   "name": "conda-root-py"
  },
  "language_info": {
   "codemirror_mode": {
    "name": "ipython",
    "version": 2
   },
   "file_extension": ".py",
   "mimetype": "text/x-python",
   "name": "python",
   "nbconvert_exporter": "python",
   "pygments_lexer": "ipython2",
   "version": "2.7.12"
  }
 },
 "nbformat": 4,
 "nbformat_minor": 1
}
